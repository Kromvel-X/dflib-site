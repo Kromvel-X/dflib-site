{
 "cells": [
  {
   "cell_type": "code",
   "execution_count": null,
   "id": "5dcbae66-d206-46a8-b536-23cc16009fa9",
   "metadata": {},
   "outputs": [],
   "source": [
    "%maven org.dflib:dflib-jupyter:1.0.0-SNAPSHOT"
   ]
  },
  {
   "cell_type": "code",
   "execution_count": null,
   "id": "069a28ed-d1f6-40af-84a5-370fc51fbaeb",
   "metadata": {},
   "outputs": [],
   "source": [
    "import org.dflib.csv.*;\n",
    "import org.dflib.echarts.*;\n",
    "\n",
    "import java.time.*;\n",
    "import java.net.http.*;"
   ]
  },
  {
   "cell_type": "code",
   "execution_count": null,
   "id": "2db1c091-86a5-425b-abca-b9c0e01ecf98",
   "metadata": {},
   "outputs": [],
   "source": [
    "HttpRequest request = HttpRequest.newBuilder()\n",
    "      .uri(URI.create(\"https://data.nasa.gov/api/views/gh4g-9sfh/rows.csv?accessType=DOWNLOAD\"))\n",
    "      .build();\n",
    "String meteoritesCsv = HttpClient\n",
    "    .newHttpClient()\n",
    "    .send(request, HttpResponse.BodyHandlers.ofString()).body();\n",
    "\n",
    "meteoritesCsv.substring(0, 500)    "
   ]
  },
  {
   "cell_type": "code",
   "execution_count": null,
   "id": "364e10ef-840a-4602-a76d-81ba21106c15",
   "metadata": {},
   "outputs": [],
   "source": [
    "\n",
    "// the dataset source is https://catalog.data.gov/dataset/meteorite-landings\n",
    "// annual stats on meteorite landings\n",
    "\n",
    "\n",
    "int thisYear = Year.now().getValue();\n",
    "\n",
    "DataFrame meteoriteStats = \n",
    "\n",
    "    // load data from CSV\n",
    "    Csv.loader()\n",
    "    .emptyStringIsNull()\n",
    "    .load(new StringReader(meteoritesCsv))\n",
    "\n",
    "    // cleanup data, and select a range\n",
    "    .rows(and(\n",
    "        $col(\"mass (g)\").isNotNull(),\n",
    "        $col(\"year\").isNotNull(),\n",
    "        $col(\"year\").castAsInt().between(thisYear - 100, thisYear))).select()\n",
    "\n",
    "    // calculate per-year stats\n",
    "    .group(\"year\")\n",
    "    .agg(\n",
    "        $col(\"year\").castAsInt().first().as(\"year\"), \n",
    "        count().as(\"count\"),\n",
    "        $str(\"mass (g)\").castAsDecimal().scale(0).sum().as(\"mass, g\")\n",
    "    ).sort($col(\"year\").asc());\n",
    "\n",
    "meteoriteStats"
   ]
  },
  {
   "cell_type": "code",
   "execution_count": null,
   "id": "4cb6fc56-0d55-42dc-b962-85f885acdac1",
   "metadata": {},
   "outputs": [],
   "source": [
    "DataFrame forPlot = meteoriteStats.cols(\"year\", \"mass, kg\").map(\n",
    "        $int(\"year\").mapVal(y -> LocalDate.of(y, 1, 1)),\n",
    "        $decimal(\"mass, g\").div(1000));\n",
    "\n",
    "ECharts.chart()\n",
    "    .xAxis(\"year\", XAxis.ofTime())\n",
    "    .yAxes(\n",
    "        YAxis.ofValue().name(\"mass, kg\"), \n",
    "        YAxis.ofValue().name(\"count\").alignTicks(true))\n",
    "    \n",
    "    .series(SeriesOpts.bar(), \"mass, kg\")\n",
    "    .series(SeriesOpts.line().yAxisIndex(1).smooth().showSymbol(false), \"count\")\n",
    "    \n",
    "    .plot(forPlot)"
   ]
  },
  {
   "cell_type": "code",
   "execution_count": null,
   "id": "e730bc92-07ca-491b-9eb0-3771990daaae",
   "metadata": {},
   "outputs": [],
   "source": []
  }
 ],
 "metadata": {
  "kernelspec": {
   "display_name": "Java",
   "language": "java",
   "name": "java"
  },
  "language_info": {
   "codemirror_mode": "java",
   "file_extension": ".jshell",
   "mimetype": "text/x-java-source",
   "name": "Java",
   "pygments_lexer": "java",
   "version": "17.0.9+9"
  }
 },
 "nbformat": 4,
 "nbformat_minor": 5
}